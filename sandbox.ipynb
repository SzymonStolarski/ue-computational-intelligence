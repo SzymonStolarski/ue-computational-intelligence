{
 "cells": [
  {
   "cell_type": "markdown",
   "metadata": {},
   "source": [
    "# 1. Points generator"
   ]
  },
  {
   "cell_type": "code",
   "execution_count": 1,
   "metadata": {},
   "outputs": [
    {
     "data": {
      "text/plain": [
       "<components.points_generator.PointsGenerator at 0x15e97556730>"
      ]
     },
     "execution_count": 1,
     "metadata": {},
     "output_type": "execute_result"
    }
   ],
   "source": [
    "from components.points_generator import PointsGenerator\n",
    "\n",
    "# For testing you can limit the points to 50 :D\n",
    "pg = PointsGenerator(n_points=100)\n",
    "pg.generate_points()"
   ]
  },
  {
   "cell_type": "code",
   "execution_count": 2,
   "metadata": {},
   "outputs": [
    {
     "data": {
      "text/plain": [
       "{0: {'coords': (130, 106), 'point_type': 'supply'},\n",
       " 1: {'coords': (124, 159), 'point_type': 'demand'},\n",
       " 2: {'coords': (160, 184), 'point_type': 'demand'},\n",
       " 3: {'coords': (175, 157), 'point_type': 'supply'},\n",
       " 4: {'coords': (162, 145), 'point_type': 'demand'},\n",
       " 5: {'coords': (132, 109), 'point_type': 'supply'},\n",
       " 6: {'coords': (137, 195), 'point_type': 'magazine'},\n",
       " 7: {'coords': (195, 130), 'point_type': 'supply'},\n",
       " 8: {'coords': (160, 164), 'point_type': 'supply'},\n",
       " 9: {'coords': (114, 151), 'point_type': 'supply'},\n",
       " 10: {'coords': (107, 144), 'point_type': 'demand'},\n",
       " 11: {'coords': (113, 154), 'point_type': 'supply'},\n",
       " 12: {'coords': (120, 156), 'point_type': 'demand'},\n",
       " 13: {'coords': (167, 144), 'point_type': 'demand'},\n",
       " 14: {'coords': (124, 130), 'point_type': 'demand'},\n",
       " 15: {'coords': (186, 192), 'point_type': 'supply'},\n",
       " 16: {'coords': (101, 108), 'point_type': 'demand'},\n",
       " 17: {'coords': (140, 106), 'point_type': 'demand'},\n",
       " 18: {'coords': (110, 147), 'point_type': 'demand'},\n",
       " 19: {'coords': (179, 178), 'point_type': 'demand'},\n",
       " 20: {'coords': (186, 199), 'point_type': 'supply'},\n",
       " 21: {'coords': (155, 162), 'point_type': 'supply'},\n",
       " 22: {'coords': (140, 113), 'point_type': 'demand'},\n",
       " 23: {'coords': (100, 117), 'point_type': 'demand'},\n",
       " 24: {'coords': (169, 200), 'point_type': 'demand'},\n",
       " 25: {'coords': (111, 146), 'point_type': 'supply'},\n",
       " 26: {'coords': (109, 110), 'point_type': 'supply'},\n",
       " 27: {'coords': (173, 159), 'point_type': 'magazine'},\n",
       " 28: {'coords': (122, 181), 'point_type': 'demand'},\n",
       " 29: {'coords': (195, 154), 'point_type': 'demand'},\n",
       " 30: {'coords': (179, 194), 'point_type': 'supply'},\n",
       " 31: {'coords': (131, 124), 'point_type': 'supply'},\n",
       " 32: {'coords': (199, 141), 'point_type': 'demand'},\n",
       " 33: {'coords': (162, 166), 'point_type': 'supply'},\n",
       " 34: {'coords': (157, 104), 'point_type': 'demand'},\n",
       " 35: {'coords': (193, 127), 'point_type': 'demand'},\n",
       " 36: {'coords': (192, 174), 'point_type': 'demand'},\n",
       " 37: {'coords': (162, 116), 'point_type': 'supply'},\n",
       " 38: {'coords': (157, 137), 'point_type': 'magazine'},\n",
       " 39: {'coords': (160, 101), 'point_type': 'demand'},\n",
       " 40: {'coords': (136, 140), 'point_type': 'supply'},\n",
       " 41: {'coords': (134, 188), 'point_type': 'demand'},\n",
       " 42: {'coords': (171, 157), 'point_type': 'demand'},\n",
       " 43: {'coords': (155, 109), 'point_type': 'demand'},\n",
       " 44: {'coords': (116, 119), 'point_type': 'demand'},\n",
       " 45: {'coords': (170, 144), 'point_type': 'supply'},\n",
       " 46: {'coords': (133, 185), 'point_type': 'demand'},\n",
       " 47: {'coords': (163, 132), 'point_type': 'demand'},\n",
       " 48: {'coords': (154, 135), 'point_type': 'supply'},\n",
       " 49: {'coords': (134, 166), 'point_type': 'demand'},\n",
       " 50: {'coords': (177, 124), 'point_type': 'demand'},\n",
       " 51: {'coords': (120, 144), 'point_type': 'demand'},\n",
       " 52: {'coords': (182, 127), 'point_type': 'demand'},\n",
       " 53: {'coords': (186, 190), 'point_type': 'supply'},\n",
       " 54: {'coords': (105, 103), 'point_type': 'demand'},\n",
       " 55: {'coords': (164, 198), 'point_type': 'demand'},\n",
       " 56: {'coords': (173, 108), 'point_type': 'demand'},\n",
       " 57: {'coords': (165, 126), 'point_type': 'supply'},\n",
       " 58: {'coords': (142, 173), 'point_type': 'supply'},\n",
       " 59: {'coords': (127, 145), 'point_type': 'supply'},\n",
       " 60: {'coords': (152, 105), 'point_type': 'demand'},\n",
       " 61: {'coords': (188, 111), 'point_type': 'demand'},\n",
       " 62: {'coords': (138, 115), 'point_type': 'supply'},\n",
       " 63: {'coords': (136, 167), 'point_type': 'magazine'},\n",
       " 64: {'coords': (167, 110), 'point_type': 'demand'},\n",
       " 65: {'coords': (127, 139), 'point_type': 'supply'},\n",
       " 66: {'coords': (121, 154), 'point_type': 'demand'},\n",
       " 67: {'coords': (187, 113), 'point_type': 'demand'},\n",
       " 68: {'coords': (148, 157), 'point_type': 'supply'},\n",
       " 69: {'coords': (116, 137), 'point_type': 'supply'},\n",
       " 70: {'coords': (190, 157), 'point_type': 'demand'},\n",
       " 71: {'coords': (111, 148), 'point_type': 'demand'},\n",
       " 72: {'coords': (137, 121), 'point_type': 'demand'},\n",
       " 73: {'coords': (116, 104), 'point_type': 'demand'},\n",
       " 74: {'coords': (115, 134), 'point_type': 'supply'},\n",
       " 75: {'coords': (114, 175), 'point_type': 'supply'},\n",
       " 76: {'coords': (183, 166), 'point_type': 'demand'},\n",
       " 77: {'coords': (115, 157), 'point_type': 'magazine'},\n",
       " 78: {'coords': (197, 131), 'point_type': 'demand'},\n",
       " 79: {'coords': (103, 148), 'point_type': 'demand'},\n",
       " 80: {'coords': (149, 118), 'point_type': 'demand'},\n",
       " 81: {'coords': (150, 107), 'point_type': 'supply'},\n",
       " 82: {'coords': (152, 141), 'point_type': 'supply'},\n",
       " 83: {'coords': (155, 154), 'point_type': 'supply'},\n",
       " 84: {'coords': (200, 195), 'point_type': 'demand'},\n",
       " 85: {'coords': (137, 147), 'point_type': 'supply'},\n",
       " 86: {'coords': (141, 121), 'point_type': 'supply'},\n",
       " 87: {'coords': (162, 125), 'point_type': 'demand'},\n",
       " 88: {'coords': (117, 122), 'point_type': 'supply'},\n",
       " 89: {'coords': (117, 101), 'point_type': 'supply'},\n",
       " 90: {'coords': (160, 145), 'point_type': 'supply'},\n",
       " 91: {'coords': (148, 118), 'point_type': 'demand'},\n",
       " 92: {'coords': (104, 171), 'point_type': 'demand'},\n",
       " 93: {'coords': (101, 137), 'point_type': 'demand'},\n",
       " 94: {'coords': (178, 111), 'point_type': 'supply'},\n",
       " 95: {'coords': (175, 157), 'point_type': 'demand'},\n",
       " 96: {'coords': (142, 188), 'point_type': 'demand'},\n",
       " 97: {'coords': (122, 164), 'point_type': 'supply'},\n",
       " 98: {'coords': (144, 107), 'point_type': 'supply'},\n",
       " 99: {'coords': (138, 124), 'point_type': 'demand'}}"
      ]
     },
     "execution_count": 2,
     "metadata": {},
     "output_type": "execute_result"
    }
   ],
   "source": [
    "# get each attribute:\n",
    "pg.generated_points\n",
    "# pg.demand_df\n",
    "# pg.supply_df\n",
    "# pg.magazines_points\n",
    "# pg.distances"
   ]
  },
  {
   "cell_type": "markdown",
   "metadata": {},
   "source": [
    "# 2. VRP Algorithm"
   ]
  },
  {
   "cell_type": "code",
   "execution_count": 3,
   "metadata": {},
   "outputs": [],
   "source": [
    "from components.vrp_algorithm import VRPAlgorithm\n",
    "from components.ga_components import *\n",
    "\n",
    "# Instantiate the VRPAlgorithm object with some parameters...\n",
    "# Here you can also limit the iterations for testing purposes\n",
    "vrp = VRPAlgorithm(population_size=20, n_iterations=100,\n",
    "selector=TournamentSelector(0.35), crossover=PMXCrossover(0.85), mutator=InverseMutator(0.025))"
   ]
  },
  {
   "cell_type": "code",
   "execution_count": 4,
   "metadata": {},
   "outputs": [
    {
     "name": "stdout",
     "output_type": "stream",
     "text": [
      "Cat in tuna demand car:             False\n",
      "Cat in tuna supply car:             False\n",
      "Starting algorithm...\n",
      "Iteration: 0.                 Result: 12505.142300678543\n",
      "Iteration: 5.                 Best result: 10638.654027570201\n",
      "Iteration: 10.                 Best result: 10544.866383999975\n",
      "Iteration: 15.                 Best result: 10544.866383999975\n",
      "Iteration: 20.                 Best result: 10504.121549380128\n",
      "Iteration: 25.                 Best result: 10491.53743318224\n",
      "Iteration: 30.                 Best result: 10278.626970602756\n",
      "Iteration: 35.                 Best result: 10224.54913311742\n",
      "Iteration: 40.                 Best result: 10202.730456202782\n",
      "Iteration: 45.                 Best result: 10202.730456202782\n",
      "Iteration: 50.                 Best result: 10202.730456202782\n",
      "Iteration: 55.                 Best result: 10202.730456202782\n",
      "Iteration: 60.                 Best result: 10032.868812841758\n",
      "Iteration: 65.                 Best result: 9804.18924265272\n",
      "Iteration: 70.                 Best result: 9766.8194936618\n",
      "Iteration: 75.                 Best result: 9670.057630963523\n",
      "Iteration: 80.                 Best result: 9465.495738770998\n",
      "Iteration: 85.                 Best result: 9465.495738770998\n",
      "Iteration: 90.                 Best result: 9421.019989469625\n",
      "Iteration: 95.                 Best result: 9421.019989469625\n",
      "Iteration: 100.                 Best result: 9421.019989469625\n",
      "Algorithm finished.\n"
     ]
    },
    {
     "data": {
      "text/plain": [
       "<components.vrp_algorithm.VRPAlgorithm at 0x15ea6cd1040>"
      ]
     },
     "execution_count": 4,
     "metadata": {},
     "output_type": "execute_result"
    }
   ],
   "source": [
    "# learn...\n",
    "vrp.learn(pg)"
   ]
  },
  {
   "cell_type": "code",
   "execution_count": 5,
   "metadata": {},
   "outputs": [
    {
     "data": {
      "image/png": "[encoded data removed]",
      "text/plain": [
       "<Figure size 432x288 with 1 Axes>"
      ]
     },
     "metadata": {
      "needs_background": "light"
     },
     "output_type": "display_data"
    }
   ],
   "source": [
    "# Visualize the learning curves...\n",
    "vrp.learning_visualization"
   ]
  },
  {
   "cell_type": "code",
   "execution_count": 6,
   "metadata": {},
   "outputs": [
    {
     "data": {
      "text/html": [
       "<div>\n",
       "<style scoped>\n",
       "    .dataframe tbody tr th:only-of-type {\n",
       "        vertical-align: middle;\n",
       "    }\n",
       "\n",
       "    .dataframe tbody tr th {\n",
       "        vertical-align: top;\n",
       "    }\n",
       "\n",
       "    .dataframe thead th {\n",
       "        text-align: right;\n",
       "    }\n",
       "</style>\n",
       "<table border=\"1\" class=\"dataframe\">\n",
       "  <thead>\n",
       "    <tr style=\"text-align: right;\">\n",
       "      <th></th>\n",
       "      <th>demand_routes</th>\n",
       "      <th>supply_routes</th>\n",
       "    </tr>\n",
       "  </thead>\n",
       "  <tbody>\n",
       "    <tr>\n",
       "      <th>0</th>\n",
       "      <td>{'Tuna': [3, 35, 76, 41, 46, 2, 84, 55, 36, 19...</td>\n",
       "      <td>{'Tuna': [3, 83, 30, 59, 53, 82, 37, 15, 21, 9...</td>\n",
       "    </tr>\n",
       "  </tbody>\n",
       "</table>\n",
       "</div>"
      ],
      "text/plain": [
       "                                       demand_routes  \\\n",
       "0  {'Tuna': [3, 35, 76, 41, 46, 2, 84, 55, 36, 19...   \n",
       "\n",
       "                                       supply_routes  \n",
       "0  {'Tuna': [3, 83, 30, 59, 53, 82, 37, 15, 21, 9...  "
      ]
     },
     "execution_count": 6,
     "metadata": {},
     "output_type": "execute_result"
    }
   ],
   "source": [
    "# A one-row pandas df that contains dictionaries with the best routes for each product within each task\n",
    "# demand_routes - we deliver there\n",
    "# supply_routes - we pickup from there\n",
    "# each product represent one car, so we have 6 cars in total\n",
    "vrp.best_paths"
   ]
  },
  {
   "cell_type": "code",
   "execution_count": 7,
   "metadata": {},
   "outputs": [
    {
     "data": {
      "text/plain": [
       "[0,\n",
       " 83,\n",
       " 30,\n",
       " 53,\n",
       " 82,\n",
       " 37,\n",
       " 15,\n",
       " 21,\n",
       " 90,\n",
       " 45,\n",
       " 48,\n",
       " 94,\n",
       " 57,\n",
       " 85,\n",
       " 11,\n",
       " 9,\n",
       " 97,\n",
       " 74,\n",
       " 88,\n",
       " 65,\n",
       " 26,\n",
       " 89,\n",
       " 62,\n",
       " 5,\n",
       " 86,\n",
       " 31,\n",
       " 3,\n",
       " 68,\n",
       " 33,\n",
       " 58,\n",
       " 40,\n",
       " 75,\n",
       " 0,\n",
       " 98,\n",
       " 25,\n",
       " 81,\n",
       " 7]"
      ]
     },
     "execution_count": 7,
     "metadata": {},
     "output_type": "execute_result"
    }
   ],
   "source": [
    "# EXAMPLE: how to get the route for Uran, from the supply_routes\n",
    "# 0 because always only one row\n",
    "vrp.best_paths['supply_routes'][0]['Uran']"
   ]
  },
  {
   "cell_type": "code",
   "execution_count": 8,
   "metadata": {},
   "outputs": [
    {
     "name": "stdout",
     "output_type": "stream",
     "text": [
      "Gdyby Janusz na łoko (na łoko to jeden umar)\n",
      "            wyznaczał trasy swoich ciężarówek, to by zrobiły\n",
      "            one 12505.14 km. Czyli przy łobecnych cenach dizla,\n",
      "            śr. 7.50 zł i średnim spalaniu dostawczaka 13l.,\n",
      "            to by wydoł 81283.42 zł na paliwo. Kurła!\n",
      "Gdyby Janusz się nos posłuchoł i kupił nosz pakiet\n",
      "            maszin lerningowy, to by jego ciężarówki zrobiły\n",
      "            9421.02 km, czyli o 3084.12 km\n",
      "            mniej! Janusz by załoszczędził\n",
      "            23130.92 zł! Kurła!\n"
     ]
    }
   ],
   "source": [
    "# :)\n",
    "vrp.ile_janusz_zaoszczedzil()"
   ]
  }
 ],
 "metadata": {
  "interpreter": {
   "hash": "3896fc8db815e5c8c540d8ed48ae5d1761aa8c28483760414d9b0f3d0e72d903"
  },
  "kernelspec": {
   "display_name": "Python 3.9.7 ('advprog')",
   "language": "python",
   "name": "python3"
  },
  "language_info": {
   "codemirror_mode": {
    "name": "ipython",
    "version": 3
   },
   "file_extension": ".py",
   "mimetype": "text/x-python",
   "name": "python",
   "nbconvert_exporter": "python",
   "pygments_lexer": "ipython3",
   "version": "3.9.7"
  },
  "orig_nbformat": 4
 },
 "nbformat": 4,
 "nbformat_minor": 2
}
