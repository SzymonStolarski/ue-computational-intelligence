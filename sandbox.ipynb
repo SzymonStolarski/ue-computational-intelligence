{
 "cells": [
  {
   "cell_type": "markdown",
   "metadata": {},
   "source": [
    "# 1. Points generator"
   ]
  },
  {
   "cell_type": "code",
   "execution_count": 1,
   "metadata": {},
   "outputs": [
    {
     "data": {
      "text/plain": [
       "<components.points_generator.PointsGenerator at 0x1e1b6a5ff70>"
      ]
     },
     "execution_count": 1,
     "metadata": {},
     "output_type": "execute_result"
    }
   ],
   "source": [
    "from components.points_generator import PointsGenerator\n",
    "\n",
    "# For testing you can limit the points to 50 :D\n",
    "pg = PointsGenerator(n_points=100)\n",
    "pg.generate_points()"
   ]
  },
  {
   "cell_type": "code",
   "execution_count": 2,
   "metadata": {},
   "outputs": [
    {
     "data": {
      "text/plain": [
       "{0: {'coords': (200, 150), 'point_type': 'supply'},\n",
       " 1: {'coords': (124, 133), 'point_type': 'demand'},\n",
       " 2: {'coords': (131, 165), 'point_type': 'supply'},\n",
       " 3: {'coords': (112, 151), 'point_type': 'supply'},\n",
       " 4: {'coords': (139, 128), 'point_type': 'demand'},\n",
       " 5: {'coords': (181, 151), 'point_type': 'supply'},\n",
       " 6: {'coords': (118, 170), 'point_type': 'demand'},\n",
       " 7: {'coords': (126, 185), 'point_type': 'demand'},\n",
       " 8: {'coords': (163, 188), 'point_type': 'demand'},\n",
       " 9: {'coords': (171, 172), 'point_type': 'supply'},\n",
       " 10: {'coords': (185, 115), 'point_type': 'demand'},\n",
       " 11: {'coords': (107, 124), 'point_type': 'demand'},\n",
       " 12: {'coords': (111, 122), 'point_type': 'demand'},\n",
       " 13: {'coords': (193, 180), 'point_type': 'magazine'},\n",
       " 14: {'coords': (145, 150), 'point_type': 'demand'},\n",
       " 15: {'coords': (152, 119), 'point_type': 'demand'},\n",
       " 16: {'coords': (166, 155), 'point_type': 'demand'},\n",
       " 17: {'coords': (143, 123), 'point_type': 'supply'},\n",
       " 18: {'coords': (198, 184), 'point_type': 'demand'},\n",
       " 19: {'coords': (140, 172), 'point_type': 'supply'},\n",
       " 20: {'coords': (101, 128), 'point_type': 'supply'},\n",
       " 21: {'coords': (166, 188), 'point_type': 'magazine'},\n",
       " 22: {'coords': (191, 133), 'point_type': 'demand'},\n",
       " 23: {'coords': (108, 105), 'point_type': 'supply'},\n",
       " 24: {'coords': (130, 109), 'point_type': 'magazine'},\n",
       " 25: {'coords': (112, 180), 'point_type': 'demand'},\n",
       " 26: {'coords': (126, 109), 'point_type': 'demand'},\n",
       " 27: {'coords': (176, 104), 'point_type': 'magazine'},\n",
       " 28: {'coords': (171, 135), 'point_type': 'demand'},\n",
       " 29: {'coords': (120, 161), 'point_type': 'demand'},\n",
       " 30: {'coords': (131, 115), 'point_type': 'demand'},\n",
       " 31: {'coords': (146, 109), 'point_type': 'supply'},\n",
       " 32: {'coords': (106, 131), 'point_type': 'supply'},\n",
       " 33: {'coords': (167, 197), 'point_type': 'demand'},\n",
       " 34: {'coords': (103, 164), 'point_type': 'demand'},\n",
       " 35: {'coords': (189, 116), 'point_type': 'demand'},\n",
       " 36: {'coords': (179, 147), 'point_type': 'supply'},\n",
       " 37: {'coords': (118, 178), 'point_type': 'demand'},\n",
       " 38: {'coords': (196, 150), 'point_type': 'demand'},\n",
       " 39: {'coords': (174, 140), 'point_type': 'supply'},\n",
       " 40: {'coords': (116, 118), 'point_type': 'demand'},\n",
       " 41: {'coords': (131, 152), 'point_type': 'supply'},\n",
       " 42: {'coords': (102, 129), 'point_type': 'supply'},\n",
       " 43: {'coords': (133, 107), 'point_type': 'supply'},\n",
       " 44: {'coords': (124, 157), 'point_type': 'supply'},\n",
       " 45: {'coords': (128, 178), 'point_type': 'supply'},\n",
       " 46: {'coords': (112, 129), 'point_type': 'supply'},\n",
       " 47: {'coords': (182, 157), 'point_type': 'demand'},\n",
       " 48: {'coords': (113, 103), 'point_type': 'demand'},\n",
       " 49: {'coords': (107, 194), 'point_type': 'supply'},\n",
       " 50: {'coords': (166, 121), 'point_type': 'demand'},\n",
       " 51: {'coords': (171, 130), 'point_type': 'demand'},\n",
       " 52: {'coords': (137, 133), 'point_type': 'supply'},\n",
       " 53: {'coords': (121, 165), 'point_type': 'demand'},\n",
       " 54: {'coords': (102, 178), 'point_type': 'supply'},\n",
       " 55: {'coords': (129, 127), 'point_type': 'supply'},\n",
       " 56: {'coords': (101, 139), 'point_type': 'demand'},\n",
       " 57: {'coords': (139, 152), 'point_type': 'demand'},\n",
       " 58: {'coords': (124, 182), 'point_type': 'demand'},\n",
       " 59: {'coords': (112, 140), 'point_type': 'demand'},\n",
       " 60: {'coords': (119, 167), 'point_type': 'supply'},\n",
       " 61: {'coords': (158, 164), 'point_type': 'demand'},\n",
       " 62: {'coords': (104, 118), 'point_type': 'demand'},\n",
       " 63: {'coords': (192, 130), 'point_type': 'demand'},\n",
       " 64: {'coords': (122, 100), 'point_type': 'supply'},\n",
       " 65: {'coords': (132, 156), 'point_type': 'supply'},\n",
       " 66: {'coords': (108, 173), 'point_type': 'demand'},\n",
       " 67: {'coords': (104, 138), 'point_type': 'demand'},\n",
       " 68: {'coords': (171, 182), 'point_type': 'supply'},\n",
       " 69: {'coords': (200, 161), 'point_type': 'magazine'},\n",
       " 70: {'coords': (142, 140), 'point_type': 'demand'},\n",
       " 71: {'coords': (196, 165), 'point_type': 'demand'},\n",
       " 72: {'coords': (112, 192), 'point_type': 'demand'},\n",
       " 73: {'coords': (105, 114), 'point_type': 'demand'},\n",
       " 74: {'coords': (134, 195), 'point_type': 'demand'},\n",
       " 75: {'coords': (169, 160), 'point_type': 'demand'},\n",
       " 76: {'coords': (196, 110), 'point_type': 'demand'},\n",
       " 77: {'coords': (119, 170), 'point_type': 'supply'},\n",
       " 78: {'coords': (136, 182), 'point_type': 'demand'},\n",
       " 79: {'coords': (130, 186), 'point_type': 'demand'},\n",
       " 80: {'coords': (120, 113), 'point_type': 'supply'},\n",
       " 81: {'coords': (159, 141), 'point_type': 'supply'},\n",
       " 82: {'coords': (105, 195), 'point_type': 'demand'},\n",
       " 83: {'coords': (194, 178), 'point_type': 'supply'},\n",
       " 84: {'coords': (120, 167), 'point_type': 'supply'},\n",
       " 85: {'coords': (101, 165), 'point_type': 'supply'},\n",
       " 86: {'coords': (143, 150), 'point_type': 'demand'},\n",
       " 87: {'coords': (180, 151), 'point_type': 'demand'},\n",
       " 88: {'coords': (190, 190), 'point_type': 'demand'},\n",
       " 89: {'coords': (145, 199), 'point_type': 'supply'},\n",
       " 90: {'coords': (170, 171), 'point_type': 'demand'},\n",
       " 91: {'coords': (126, 125), 'point_type': 'demand'},\n",
       " 92: {'coords': (112, 176), 'point_type': 'supply'},\n",
       " 93: {'coords': (148, 130), 'point_type': 'demand'},\n",
       " 94: {'coords': (170, 144), 'point_type': 'supply'},\n",
       " 95: {'coords': (166, 118), 'point_type': 'demand'},\n",
       " 96: {'coords': (110, 190), 'point_type': 'supply'},\n",
       " 97: {'coords': (141, 190), 'point_type': 'supply'},\n",
       " 98: {'coords': (189, 135), 'point_type': 'demand'},\n",
       " 99: {'coords': (193, 168), 'point_type': 'supply'}}"
      ]
     },
     "execution_count": 2,
     "metadata": {},
     "output_type": "execute_result"
    }
   ],
   "source": [
    "# get each attribute:\n",
    "pg.generated_points\n",
    "# pg.demand_df\n",
    "# pg.supply_df\n",
    "# pg.magazines_points\n",
    "# pg.distances"
   ]
  },
  {
   "cell_type": "markdown",
   "metadata": {},
   "source": [
    "# 2. VRP Algorithm"
   ]
  },
  {
   "cell_type": "code",
   "execution_count": 3,
   "metadata": {},
   "outputs": [],
   "source": [
    "from components.vrp_algorithm import VRPAlgorithm\n",
    "from components.ga_components import *\n",
    "\n",
    "# Instantiate the VRPAlgorithm object with some parameters...\n",
    "# Here you can also limit the iterations for testing purposes\n",
    "vrp = VRPAlgorithm(population_size=20, n_iterations=100,\n",
    "selector=TournamentSelector(0.35), crossover=PMXCrossover(0.85), mutator=InverseMutator(0.025))"
   ]
  },
  {
   "cell_type": "code",
   "execution_count": 4,
   "metadata": {},
   "outputs": [
    {
     "name": "stdout",
     "output_type": "stream",
     "text": [
      "Starting algorithm...\n",
      "Iteration: 0.                 Result: 13115.141111405326\n",
      "Iteration: 5.                 Best result: 12427.64391372764\n",
      "Iteration: 10.                 Best result: 11938.669301123053\n",
      "Iteration: 15.                 Best result: 11893.183596860732\n",
      "Iteration: 20.                 Best result: 11825.23598662902\n",
      "Iteration: 25.                 Best result: 11100.302332547453\n",
      "Iteration: 30.                 Best result: 11100.302332547453\n",
      "Iteration: 35.                 Best result: 11100.302332547453\n",
      "Iteration: 40.                 Best result: 11100.302332547453\n",
      "Iteration: 45.                 Best result: 11100.302332547453\n",
      "Iteration: 50.                 Best result: 11030.146003579195\n",
      "Iteration: 55.                 Best result: 10964.901353797612\n",
      "Iteration: 60.                 Best result: 10964.901353797612\n",
      "Iteration: 65.                 Best result: 10964.901353797612\n",
      "Iteration: 70.                 Best result: 10964.901353797612\n",
      "Iteration: 75.                 Best result: 10964.901353797612\n",
      "Iteration: 80.                 Best result: 10964.901353797612\n",
      "Iteration: 85.                 Best result: 10964.901353797612\n",
      "Iteration: 90.                 Best result: 10964.901353797612\n",
      "Iteration: 95.                 Best result: 10964.901353797612\n",
      "Iteration: 100.                 Best result: 10964.901353797612\n",
      "Algorithm finished.\n"
     ]
    },
    {
     "data": {
      "text/plain": [
       "<components.vrp_algorithm.VRPAlgorithm at 0x1e1b5eac5b0>"
      ]
     },
     "execution_count": 4,
     "metadata": {},
     "output_type": "execute_result"
    }
   ],
   "source": [
    "# learn...\n",
    "vrp.learn(pg)"
   ]
  },
  {
   "cell_type": "code",
   "execution_count": 5,
   "metadata": {},
   "outputs": [
    {
     "data": {
      "image/png": "[encoded data removed]",
      "text/plain": [
       "<Figure size 432x288 with 1 Axes>"
      ]
     },
     "metadata": {
      "needs_background": "light"
     },
     "output_type": "display_data"
    }
   ],
   "source": [
    "# Visualize the learning curves...\n",
    "vrp.learning_visualization"
   ]
  },
  {
   "cell_type": "code",
   "execution_count": 6,
   "metadata": {},
   "outputs": [
    {
     "data": {
      "text/html": [
       "<div>\n",
       "<style scoped>\n",
       "    .dataframe tbody tr th:only-of-type {\n",
       "        vertical-align: middle;\n",
       "    }\n",
       "\n",
       "    .dataframe tbody tr th {\n",
       "        vertical-align: top;\n",
       "    }\n",
       "\n",
       "    .dataframe thead th {\n",
       "        text-align: right;\n",
       "    }\n",
       "</style>\n",
       "<table border=\"1\" class=\"dataframe\">\n",
       "  <thead>\n",
       "    <tr style=\"text-align: right;\">\n",
       "      <th></th>\n",
       "      <th>demand_routes</th>\n",
       "      <th>supply_routes</th>\n",
       "    </tr>\n",
       "  </thead>\n",
       "  <tbody>\n",
       "    <tr>\n",
       "      <th>0</th>\n",
       "      <td>{'Tuna': [4, 25, 72, 76, 51, 35, 91, 74, 90, 5...</td>\n",
       "      <td>{'Tuna': [0, 20, 96, 77, 45, 97, 99, 68, 2, 44...</td>\n",
       "    </tr>\n",
       "  </tbody>\n",
       "</table>\n",
       "</div>"
      ],
      "text/plain": [
       "                                       demand_routes  \\\n",
       "0  {'Tuna': [4, 25, 72, 76, 51, 35, 91, 74, 90, 5...   \n",
       "\n",
       "                                       supply_routes  \n",
       "0  {'Tuna': [0, 20, 96, 77, 45, 97, 99, 68, 2, 44...  "
      ]
     },
     "execution_count": 6,
     "metadata": {},
     "output_type": "execute_result"
    }
   ],
   "source": [
    "# A one-row pandas df that contains dictionaries with the best routes for each product within each task\n",
    "# demand_routes - we deliver there\n",
    "# supply_routes - we pickup from there\n",
    "# each product represent one car, so we have 6 cars in total\n",
    "vrp.best_paths"
   ]
  },
  {
   "cell_type": "code",
   "execution_count": 7,
   "metadata": {},
   "outputs": [
    {
     "data": {
      "text/plain": [
       "[0,\n",
       " 20,\n",
       " 96,\n",
       " 77,\n",
       " 45,\n",
       " 97,\n",
       " 99,\n",
       " 68,\n",
       " 2,\n",
       " 44,\n",
       " 52,\n",
       " 85,\n",
       " 5,\n",
       " 55,\n",
       " 80,\n",
       " 65,\n",
       " 84,\n",
       " 41,\n",
       " 19,\n",
       " 36,\n",
       " 39,\n",
       " 0,\n",
       " 94,\n",
       " 9,\n",
       " 64,\n",
       " 23,\n",
       " 17,\n",
       " 32,\n",
       " 43,\n",
       " 46,\n",
       " 42,\n",
       " 54,\n",
       " 83,\n",
       " 49,\n",
       " 3,\n",
       " 31,\n",
       " 81,\n",
       " 89]"
      ]
     },
     "execution_count": 7,
     "metadata": {},
     "output_type": "execute_result"
    }
   ],
   "source": [
    "# EXAMPLE: how to get the route for Uran, from the supply_routes\n",
    "# 0 because always only one row\n",
    "vrp.best_paths['supply_routes'][0]['Uran']"
   ]
  },
  {
   "cell_type": "code",
   "execution_count": 8,
   "metadata": {},
   "outputs": [
    {
     "name": "stdout",
     "output_type": "stream",
     "text": [
      "Gdyby Janusz na łoko (na łoko to jeden umar)\n",
      "            wyznaczał trasy swoich ciężarówek, to by zrobiły\n",
      "            one 13115.14 km. Czyli przy łobecnych cenach dizla,\n",
      "            śr. 6.50 zł i średnim spalaniu dostawczaka 13l.,\n",
      "            to by wydoł 85248.42 zł na paliwo. Kurła!\n",
      "Gdyby Janusz się nos posłuchoł i kupił nosz pakiet\n",
      "            maszin lerningowy, to by jego ciężarówki zrobiły\n",
      "            10964.9 km, czyli o 2150.24 km\n",
      "            mniej! Janusz by załoszczędził\n",
      "            13976.56 zł! Kurła!\n"
     ]
    }
   ],
   "source": [
    "# :)\n",
    "vrp.ile_janusz_zaoszczedzil"
   ]
  }
 ],
 "metadata": {
  "interpreter": {
   "hash": "1851866e6aa6553f536216226232be892807d222c2fcb4d44039f5e3d60cd39c"
  },
  "kernelspec": {
   "display_name": "Python 3.9.7 ('advprog')",
   "language": "python",
   "name": "python3"
  },
  "language_info": {
   "codemirror_mode": {
    "name": "ipython",
    "version": 3
   },
   "file_extension": ".py",
   "mimetype": "text/x-python",
   "name": "python",
   "nbconvert_exporter": "python",
   "pygments_lexer": "ipython3",
   "version": "3.9.7"
  },
  "orig_nbformat": 4
 },
 "nbformat": 4,
 "nbformat_minor": 2
}
