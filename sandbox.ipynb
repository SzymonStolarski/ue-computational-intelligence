{
 "cells": [
  {
   "cell_type": "markdown",
   "metadata": {},
   "source": [
    "# 1. Points generator"
   ]
  },
  {
   "cell_type": "code",
   "execution_count": 1,
   "metadata": {},
   "outputs": [
    {
     "data": {
      "text/plain": [
       "<components.points_generator.PointsGenerator at 0x267f4bd93d0>"
      ]
     },
     "execution_count": 1,
     "metadata": {},
     "output_type": "execute_result"
    }
   ],
   "source": [
    "from components.points_generator import PointsGenerator\n",
    "\n",
    "# For testing you can limit the points to 50 :D\n",
    "pg = PointsGenerator(n_points=100)\n",
    "pg.generate_points()"
   ]
  },
  {
   "cell_type": "code",
   "execution_count": 2,
   "metadata": {},
   "outputs": [
    {
     "data": {
      "text/plain": [
       "{0: {'coords': (168, 180), 'point_type': 'demand'},\n",
       " 1: {'coords': (147, 127), 'point_type': 'demand'},\n",
       " 2: {'coords': (119, 190), 'point_type': 'supply'},\n",
       " 3: {'coords': (159, 181), 'point_type': 'supply'},\n",
       " 4: {'coords': (151, 150), 'point_type': 'demand'},\n",
       " 5: {'coords': (188, 178), 'point_type': 'demand'},\n",
       " 6: {'coords': (107, 164), 'point_type': 'demand'},\n",
       " 7: {'coords': (101, 186), 'point_type': 'demand'},\n",
       " 8: {'coords': (147, 171), 'point_type': 'supply'},\n",
       " 9: {'coords': (122, 122), 'point_type': 'supply'},\n",
       " 10: {'coords': (134, 197), 'point_type': 'demand'},\n",
       " 11: {'coords': (128, 184), 'point_type': 'supply'},\n",
       " 12: {'coords': (102, 105), 'point_type': 'demand'},\n",
       " 13: {'coords': (121, 188), 'point_type': 'demand'},\n",
       " 14: {'coords': (128, 160), 'point_type': 'magazine'},\n",
       " 15: {'coords': (178, 178), 'point_type': 'demand'},\n",
       " 16: {'coords': (150, 138), 'point_type': 'magazine'},\n",
       " 17: {'coords': (133, 184), 'point_type': 'supply'},\n",
       " 18: {'coords': (131, 118), 'point_type': 'demand'},\n",
       " 19: {'coords': (179, 161), 'point_type': 'supply'},\n",
       " 20: {'coords': (138, 119), 'point_type': 'supply'},\n",
       " 21: {'coords': (154, 149), 'point_type': 'demand'},\n",
       " 22: {'coords': (158, 184), 'point_type': 'demand'},\n",
       " 23: {'coords': (162, 136), 'point_type': 'demand'},\n",
       " 24: {'coords': (168, 186), 'point_type': 'supply'},\n",
       " 25: {'coords': (111, 170), 'point_type': 'demand'},\n",
       " 26: {'coords': (182, 142), 'point_type': 'demand'},\n",
       " 27: {'coords': (138, 112), 'point_type': 'supply'},\n",
       " 28: {'coords': (169, 118), 'point_type': 'demand'},\n",
       " 29: {'coords': (199, 162), 'point_type': 'supply'},\n",
       " 30: {'coords': (122, 153), 'point_type': 'supply'},\n",
       " 31: {'coords': (101, 162), 'point_type': 'demand'},\n",
       " 32: {'coords': (116, 142), 'point_type': 'demand'},\n",
       " 33: {'coords': (172, 186), 'point_type': 'supply'},\n",
       " 34: {'coords': (124, 147), 'point_type': 'demand'},\n",
       " 35: {'coords': (189, 102), 'point_type': 'supply'},\n",
       " 36: {'coords': (181, 138), 'point_type': 'supply'},\n",
       " 37: {'coords': (193, 115), 'point_type': 'supply'},\n",
       " 38: {'coords': (152, 101), 'point_type': 'supply'},\n",
       " 39: {'coords': (146, 162), 'point_type': 'supply'},\n",
       " 40: {'coords': (121, 200), 'point_type': 'supply'},\n",
       " 41: {'coords': (185, 171), 'point_type': 'demand'},\n",
       " 42: {'coords': (172, 118), 'point_type': 'demand'},\n",
       " 43: {'coords': (184, 165), 'point_type': 'supply'},\n",
       " 44: {'coords': (160, 194), 'point_type': 'demand'},\n",
       " 45: {'coords': (118, 116), 'point_type': 'supply'},\n",
       " 46: {'coords': (117, 189), 'point_type': 'supply'},\n",
       " 47: {'coords': (176, 110), 'point_type': 'supply'},\n",
       " 48: {'coords': (171, 160), 'point_type': 'supply'},\n",
       " 49: {'coords': (196, 155), 'point_type': 'demand'},\n",
       " 50: {'coords': (163, 138), 'point_type': 'demand'},\n",
       " 51: {'coords': (126, 164), 'point_type': 'supply'},\n",
       " 52: {'coords': (136, 143), 'point_type': 'demand'},\n",
       " 53: {'coords': (156, 139), 'point_type': 'demand'},\n",
       " 54: {'coords': (168, 153), 'point_type': 'demand'},\n",
       " 55: {'coords': (131, 101), 'point_type': 'supply'},\n",
       " 56: {'coords': (107, 175), 'point_type': 'supply'},\n",
       " 57: {'coords': (154, 110), 'point_type': 'demand'},\n",
       " 58: {'coords': (173, 179), 'point_type': 'supply'},\n",
       " 59: {'coords': (106, 150), 'point_type': 'demand'},\n",
       " 60: {'coords': (193, 138), 'point_type': 'demand'},\n",
       " 61: {'coords': (134, 145), 'point_type': 'demand'},\n",
       " 62: {'coords': (105, 143), 'point_type': 'demand'},\n",
       " 63: {'coords': (160, 198), 'point_type': 'magazine'},\n",
       " 64: {'coords': (185, 185), 'point_type': 'supply'},\n",
       " 65: {'coords': (100, 154), 'point_type': 'supply'},\n",
       " 66: {'coords': (123, 167), 'point_type': 'demand'},\n",
       " 67: {'coords': (190, 120), 'point_type': 'demand'},\n",
       " 68: {'coords': (172, 157), 'point_type': 'supply'},\n",
       " 69: {'coords': (106, 146), 'point_type': 'supply'},\n",
       " 70: {'coords': (105, 123), 'point_type': 'demand'},\n",
       " 71: {'coords': (188, 132), 'point_type': 'demand'},\n",
       " 72: {'coords': (187, 184), 'point_type': 'demand'},\n",
       " 73: {'coords': (112, 165), 'point_type': 'supply'},\n",
       " 74: {'coords': (112, 156), 'point_type': 'demand'},\n",
       " 75: {'coords': (153, 177), 'point_type': 'supply'},\n",
       " 76: {'coords': (180, 121), 'point_type': 'supply'},\n",
       " 77: {'coords': (177, 150), 'point_type': 'supply'},\n",
       " 78: {'coords': (102, 151), 'point_type': 'demand'},\n",
       " 79: {'coords': (127, 189), 'point_type': 'supply'},\n",
       " 80: {'coords': (158, 150), 'point_type': 'demand'},\n",
       " 81: {'coords': (161, 101), 'point_type': 'demand'},\n",
       " 82: {'coords': (103, 148), 'point_type': 'supply'},\n",
       " 83: {'coords': (159, 176), 'point_type': 'supply'},\n",
       " 84: {'coords': (120, 155), 'point_type': 'demand'},\n",
       " 85: {'coords': (126, 134), 'point_type': 'demand'},\n",
       " 86: {'coords': (161, 144), 'point_type': 'demand'},\n",
       " 87: {'coords': (197, 107), 'point_type': 'demand'},\n",
       " 88: {'coords': (113, 123), 'point_type': 'magazine'},\n",
       " 89: {'coords': (119, 114), 'point_type': 'demand'},\n",
       " 90: {'coords': (164, 160), 'point_type': 'demand'},\n",
       " 91: {'coords': (109, 198), 'point_type': 'supply'},\n",
       " 92: {'coords': (117, 175), 'point_type': 'supply'},\n",
       " 93: {'coords': (151, 173), 'point_type': 'supply'},\n",
       " 94: {'coords': (134, 108), 'point_type': 'supply'},\n",
       " 95: {'coords': (185, 122), 'point_type': 'demand'},\n",
       " 96: {'coords': (155, 146), 'point_type': 'magazine'},\n",
       " 97: {'coords': (199, 191), 'point_type': 'demand'},\n",
       " 98: {'coords': (106, 182), 'point_type': 'demand'},\n",
       " 99: {'coords': (103, 180), 'point_type': 'supply'}}"
      ]
     },
     "execution_count": 2,
     "metadata": {},
     "output_type": "execute_result"
    }
   ],
   "source": [
    "# get each attribute:\n",
    "pg.generated_points\n",
    "# pg.demand_df\n",
    "# pg.supply_df\n",
    "# pg.magazines_points\n",
    "# pg.distances"
   ]
  },
  {
   "cell_type": "markdown",
   "metadata": {},
   "source": [
    "# 2. VRP Algorithm"
   ]
  },
  {
   "cell_type": "code",
   "execution_count": 3,
   "metadata": {},
   "outputs": [],
   "source": [
    "from components.vrp_algorithm import VRPAlgorithm\n",
    "from components.ga_components import *\n",
    "\n",
    "# Instantiate the VRPAlgorithm object with some parameters...\n",
    "# Here you can also limit the iterations for testing purposes\n",
    "vrp = VRPAlgorithm(population_size=20, n_iterations=100,\n",
    "selector=TournamentSelector(0.35), crossover=PMXCrossover(0.85), mutator=InverseMutator(0.025))"
   ]
  },
  {
   "cell_type": "code",
   "execution_count": 4,
   "metadata": {},
   "outputs": [
    {
     "name": "stdout",
     "output_type": "stream",
     "text": [
      "Starting algorithm...\n",
      "Iteration: 0.                 Result: 13576.81006216508\n",
      "Iteration: 5.                 Result: 13017.046400575618                 Best result: 13017.046400575618\n",
      "Iteration: 10.                 Result: 12957.958834623048                 Best result: 12957.958834623048\n",
      "Iteration: 15.                 Result: 12312.846793480312                 Best result: 12300.036305844558\n",
      "Iteration: 20.                 Result: 12292.289588999389                 Best result: 12238.386477821496\n",
      "Iteration: 25.                 Result: 12206.57807888238                 Best result: 12206.57807888238\n",
      "Iteration: 30.                 Result: 11738.825707871209                 Best result: 11738.825707871209\n",
      "Iteration: 35.                 Result: 11783.39955938455                 Best result: 11738.825707871209\n",
      "Iteration: 40.                 Result: 11792.887212002886                 Best result: 11738.825707871209\n",
      "Iteration: 45.                 Result: 11777.422104874635                 Best result: 11738.825707871209\n",
      "Iteration: 50.                 Result: 11814.860117886014                 Best result: 11738.825707871209\n",
      "Iteration: 55.                 Result: 11802.409157452497                 Best result: 11738.825707871209\n",
      "Iteration: 60.                 Result: 11805.850083832                 Best result: 11738.825707871209\n",
      "Iteration: 65.                 Result: 11759.23399763299                 Best result: 11738.825707871209\n",
      "Iteration: 70.                 Result: 11786.269151486515                 Best result: 11738.825707871209\n",
      "Iteration: 75.                 Result: 11769.193174976795                 Best result: 11738.825707871209\n",
      "Iteration: 80.                 Result: 11766.581112477212                 Best result: 11729.347533487518\n",
      "Iteration: 85.                 Result: 11737.558444804486                 Best result: 11729.347533487518\n",
      "Iteration: 90.                 Result: 11714.642127538777                 Best result: 11713.347605523384\n",
      "Iteration: 95.                 Result: 11690.49851778367                 Best result: 11683.728073073935\n",
      "Iteration: 100.                 Result: 11562.808114568537                 Best result: 11532.326326753278\n",
      "Algorithm finished.\n"
     ]
    },
    {
     "data": {
      "text/plain": [
       "<components.vrp_algorithm.VRPAlgorithm at 0x267f4f20b80>"
      ]
     },
     "execution_count": 4,
     "metadata": {},
     "output_type": "execute_result"
    }
   ],
   "source": [
    "# learn...\n",
    "vrp.learn(pg)"
   ]
  },
  {
   "cell_type": "code",
   "execution_count": 5,
   "metadata": {},
   "outputs": [
    {
     "data": {
      "image/png": "[encoded data removed]",
      "text/plain": [
       "<Figure size 432x288 with 1 Axes>"
      ]
     },
     "metadata": {
      "needs_background": "light"
     },
     "output_type": "display_data"
    }
   ],
   "source": [
    "# Visualize the learning curves...\n",
    "vrp.learning_visualization"
   ]
  },
  {
   "cell_type": "code",
   "execution_count": 6,
   "metadata": {},
   "outputs": [
    {
     "data": {
      "text/html": [
       "<div>\n",
       "<style scoped>\n",
       "    .dataframe tbody tr th:only-of-type {\n",
       "        vertical-align: middle;\n",
       "    }\n",
       "\n",
       "    .dataframe tbody tr th {\n",
       "        vertical-align: top;\n",
       "    }\n",
       "\n",
       "    .dataframe thead th {\n",
       "        text-align: right;\n",
       "    }\n",
       "</style>\n",
       "<table border=\"1\" class=\"dataframe\">\n",
       "  <thead>\n",
       "    <tr style=\"text-align: right;\">\n",
       "      <th></th>\n",
       "      <th>demand_routes</th>\n",
       "      <th>supply_routes</th>\n",
       "    </tr>\n",
       "  </thead>\n",
       "  <tbody>\n",
       "    <tr>\n",
       "      <th>0</th>\n",
       "      <td>{'Tuna': [16, 6, 78, 66, 49, 62, 53, 13, 10, 3...</td>\n",
       "      <td>{'Tuna': [14, 30, 8, 94, 55, 38, 9, 65, 99, 92...</td>\n",
       "    </tr>\n",
       "  </tbody>\n",
       "</table>\n",
       "</div>"
      ],
      "text/plain": [
       "                                       demand_routes  \\\n",
       "0  {'Tuna': [16, 6, 78, 66, 49, 62, 53, 13, 10, 3...   \n",
       "\n",
       "                                       supply_routes  \n",
       "0  {'Tuna': [14, 30, 8, 94, 55, 38, 9, 65, 99, 92...  "
      ]
     },
     "execution_count": 6,
     "metadata": {},
     "output_type": "execute_result"
    }
   ],
   "source": [
    "# A one-row pandas df that contains dictionaries with the best routes for each product within each task\n",
    "# demand_routes - we deliver there\n",
    "# supply_routes - we pickup from there\n",
    "# each product represent one car, so we have 6 cars in total\n",
    "vrp.best_paths"
   ]
  },
  {
   "cell_type": "code",
   "execution_count": 7,
   "metadata": {},
   "outputs": [
    {
     "data": {
      "text/plain": [
       "[14,\n",
       " 30,\n",
       " 8,\n",
       " 94,\n",
       " 55,\n",
       " 38,\n",
       " 58,\n",
       " 9,\n",
       " 65,\n",
       " 99,\n",
       " 92,\n",
       " 83,\n",
       " 51,\n",
       " 79,\n",
       " 48,\n",
       " 73,\n",
       " 40,\n",
       " 17,\n",
       " 93,\n",
       " 68,\n",
       " 29,\n",
       " 77,\n",
       " 37,\n",
       " 35,\n",
       " 76,\n",
       " 33,\n",
       " 64,\n",
       " 75,\n",
       " 11,\n",
       " 24,\n",
       " 19,\n",
       " 43,\n",
       " 56,\n",
       " 20,\n",
       " 27,\n",
       " 39,\n",
       " 36,\n",
       " 3,\n",
       " 47,\n",
       " 45,\n",
       " 82,\n",
       " 14,\n",
       " 91,\n",
       " 46,\n",
       " 2,\n",
       " 69]"
      ]
     },
     "execution_count": 7,
     "metadata": {},
     "output_type": "execute_result"
    }
   ],
   "source": [
    "# EXAMPLE: how to get the route for Uran, from the supply_routes\n",
    "# 0 because always only one row\n",
    "vrp.best_paths['supply_routes'][0]['Uran']"
   ]
  },
  {
   "cell_type": "code",
   "execution_count": 8,
   "metadata": {},
   "outputs": [
    {
     "name": "stdout",
     "output_type": "stream",
     "text": [
      "Gdyby Janusz na łoko (na łoko to jeden umar)\n",
      "            wyznaczał trasy swoich ciężarówek, to by zrobiły\n",
      "            one 13576.81 km. Czyli przy łobecnych cenach dizla,\n",
      "            śr. 6.50 zł i średnim spalaniu dostawczaka 13l.,\n",
      "            to by wydoł 88249.27 zł na paliwo. Kurła!\n",
      "Gdyby Janusz się nos posłuchoł i kupił nosz pakiet\n",
      "            maszin lerningowy, to by jego ciężarówki zrobiły\n",
      "            11532.33 km, czyli o 2044.48 km\n",
      "            mniej! Janusz by załoszczędził\n",
      "            13289.14 zł! Kurła!\n"
     ]
    }
   ],
   "source": [
    "# :)\n",
    "vrp.ile_janusz_zaoszczedzil"
   ]
  }
 ],
 "metadata": {
  "interpreter": {
   "hash": "1851866e6aa6553f536216226232be892807d222c2fcb4d44039f5e3d60cd39c"
  },
  "kernelspec": {
   "display_name": "Python 3.9.7 ('advprog')",
   "language": "python",
   "name": "python3"
  },
  "language_info": {
   "codemirror_mode": {
    "name": "ipython",
    "version": 3
   },
   "file_extension": ".py",
   "mimetype": "text/x-python",
   "name": "python",
   "nbconvert_exporter": "python",
   "pygments_lexer": "ipython3",
   "version": "3.9.7"
  },
  "orig_nbformat": 4
 },
 "nbformat": 4,
 "nbformat_minor": 2
}
