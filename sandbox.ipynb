{
 "cells": [
  {
   "cell_type": "code",
   "execution_count": 1,
   "metadata": {},
   "outputs": [
    {
     "data": {
      "text/plain": [
       "{0: {'coords': (140, 168), 'demand': 0, 'supply': 0},\n",
       " 1: {'coords': (191, 148), 'demand': 196, 'supply': 0},\n",
       " 2: {'coords': (159, 150), 'demand': 0, 'supply': 110},\n",
       " 3: {'coords': (170, 193), 'demand': 185, 'supply': 0},\n",
       " 4: {'coords': (123, 178), 'demand': 0, 'supply': 139},\n",
       " 5: {'coords': (185, 116), 'demand': 0, 'supply': 159},\n",
       " 6: {'coords': (153, 200), 'demand': 0, 'supply': 176},\n",
       " 7: {'coords': (124, 114), 'demand': 0, 'supply': 100},\n",
       " 8: {'coords': (199, 105), 'demand': 152, 'supply': 0},\n",
       " 9: {'coords': (136, 159), 'demand': 0, 'supply': 103}}"
      ]
     },
     "execution_count": 1,
     "metadata": {},
     "output_type": "execute_result"
    }
   ],
   "source": [
    "from components.points_generator import PointsGenerator\n",
    "\n",
    "pg = PointsGenerator(10)\n",
    "\n",
    "pg.generate_points()\n",
    "\n",
    "pg.generated_points\n",
    "\n",
    "#pg.distances\n"
   ]
  }
 ],
 "metadata": {
  "interpreter": {
   "hash": "1851866e6aa6553f536216226232be892807d222c2fcb4d44039f5e3d60cd39c"
  },
  "kernelspec": {
   "display_name": "Python 3.9.7 ('advprog')",
   "language": "python",
   "name": "python3"
  },
  "language_info": {
   "codemirror_mode": {
    "name": "ipython",
    "version": 3
   },
   "file_extension": ".py",
   "mimetype": "text/x-python",
   "name": "python",
   "nbconvert_exporter": "python",
   "pygments_lexer": "ipython3",
   "version": "3.9.7"
  },
  "orig_nbformat": 4
 },
 "nbformat": 4,
 "nbformat_minor": 2
}
